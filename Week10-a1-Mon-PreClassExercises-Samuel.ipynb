{
 "cells": [
  {
   "cell_type": "markdown",
   "metadata": {},
   "source": [
    "# Application Programming Interfaces (APIs) and API Keys\n",
    "\n",
    "#### In this notebook, we will walk through how to connect to APIs that require keys\n",
    "\n",
    "#### Add your last name to the name of the notebook (above); when it is complete, submit it to ELMS as the Week 10a-1 pre-class exercise."
   ]
  },
  {
   "cell_type": "code",
   "execution_count": 1,
   "metadata": {
    "collapsed": true
   },
   "outputs": [],
   "source": [
    "# load pandas with the nickname \"pd\"\n",
    "\n",
    "import pandas as pd"
   ]
  },
  {
   "cell_type": "markdown",
   "metadata": {},
   "source": [
    "# What is an API key?\n",
    "\n",
    "### Many applications have APIs, but most require an API to connect and pull data. This allows the service to monitor and understand how the API is being used. Some sites also enforce limits on the number of free data pulls allowed per day. Most sites with APIs have a page that lists whether a key is required, and how to format your API request."
   ]
  },
  {
   "cell_type": "markdown",
   "metadata": {},
   "source": [
    "## Exercise 1: Requesting an API Key"
   ]
  },
  {
   "cell_type": "markdown",
   "metadata": {},
   "source": [
    "#### For this exercise we will use an API for the BigHugeLabs Thesaurus. This site provides synonyms, antonyms, and related words for a word you provide. Go to the following website for details on the site's API: https://words.bighugelabs.com/api.php (Thesaurus service provided by http://words.bighugelabs.com)"
   ]
  },
  {
   "cell_type": "markdown",
   "metadata": {},
   "source": [
    "#### Click on the button that says \"Get an API Key.\" Note that they have a limit on the number of requests you can send for free. What is this limit?"
   ]
  },
  {
   "cell_type": "markdown",
   "metadata": {},
   "source": [
    "One thousand requests a day are free."
   ]
  },
  {
   "cell_type": "markdown",
   "metadata": {},
   "source": [
    "#### Click on \"Create an account.\" Follow the site's process for registering for an account. Once the account has been created, it should take you to a site where you can request your API key. When it asks for a description about your application, you can state that this is for learning about APIs through Python. You do not have to include a URL or picture for your app. Click on \"Get API key\" when you have filled out the required fields.\n",
    "\n",
    "#### The site will provide you with an API key, which is a long string of letters and numbers. It is useful to store your API key in a variable, so you don't have to type it in throughout your program."
   ]
  },
  {
   "cell_type": "code",
   "execution_count": 2,
   "metadata": {
    "collapsed": true
   },
   "outputs": [],
   "source": [
    "# Enter your API key here: \n",
    "\n",
    "bighuge_key = \"7c4a2b721ce4631c6db7df872f0f26b9\" # paste your key between the quotation marks"
   ]
  },
  {
   "cell_type": "markdown",
   "metadata": {},
   "source": [
    "### NOTE: API keys are meant to be private, and used only by you or your specific application. You will run the notebook with your API key, but you don't need to share the key with us. Before submitting this notebook, replace your API key with `[my_key]` in the above cell. Please leave any output provided via the API in the notebook; just make sure the actual API key isn't displayed."
   ]
  },
  {
   "cell_type": "markdown",
   "metadata": {},
   "source": [
    "## Exercise 2: Test the thesaurus API"
   ]
  },
  {
   "cell_type": "markdown",
   "metadata": {},
   "source": [
    "#### We will provide the key and a sample word (\"test\" -- or you can change it to another word), then pull the JSON data into a `pandas` dataframe and look at the results."
   ]
  },
  {
   "cell_type": "code",
   "execution_count": 3,
   "metadata": {},
   "outputs": [
    {
     "name": "stdout",
     "output_type": "stream",
     "text": [
      "http://words.bighugelabs.com/api/2/7c4a2b721ce4631c6db7df872f0f26b9/test/\n"
     ]
    }
   ],
   "source": [
    "# Create the request URL\n",
    "\n",
    "search_word = \"test\" # you can change this to another word\n",
    "search_url = \"http://words.bighugelabs.com/api/2/\" + bighuge_key + \"/\" + search_word + \"/\"\n",
    "\n",
    "print(search_url)"
   ]
  },
  {
   "cell_type": "markdown",
   "metadata": {},
   "source": [
    "http://words.bighugelabs.com/api/2/7c4a2b721ce4631c6db7df872f0f26b9/test/"
   ]
  },
  {
   "cell_type": "markdown",
   "metadata": {},
   "source": [
    "#### What was the purpose of the step where we created a string containing a URL?"
   ]
  },
  {
   "cell_type": "markdown",
   "metadata": {},
   "source": [
    "-So that URL links us to the data that we want."
   ]
  },
  {
   "cell_type": "markdown",
   "metadata": {},
   "source": [
    "#### Request the data from the API, and display the results:"
   ]
  },
  {
   "cell_type": "code",
   "execution_count": null,
   "metadata": {},
   "outputs": [
    {
     "data": {
      "text/html": [
       "<div>\n",
       "<table border=\"1\" class=\"dataframe\">\n",
       "  <thead>\n",
       "    <tr style=\"text-align: right;\">\n",
       "      <th></th>\n",
       "      <th>part_of_speech</th>\n",
       "      <th>type_of_rel</th>\n",
       "      <th>phrase</th>\n",
       "    </tr>\n",
       "  </thead>\n",
       "  <tbody>\n",
       "    <tr>\n",
       "      <th>0</th>\n",
       "      <td>noun</td>\n",
       "      <td>syn</td>\n",
       "      <td>trial</td>\n",
       "    </tr>\n",
       "    <tr>\n",
       "      <th>1</th>\n",
       "      <td>noun</td>\n",
       "      <td>syn</td>\n",
       "      <td>trial run</td>\n",
       "    </tr>\n",
       "    <tr>\n",
       "      <th>2</th>\n",
       "      <td>noun</td>\n",
       "      <td>syn</td>\n",
       "      <td>tryout</td>\n",
       "    </tr>\n",
       "    <tr>\n",
       "      <th>3</th>\n",
       "      <td>noun</td>\n",
       "      <td>syn</td>\n",
       "      <td>mental test</td>\n",
       "    </tr>\n",
       "    <tr>\n",
       "      <th>4</th>\n",
       "      <td>noun</td>\n",
       "      <td>syn</td>\n",
       "      <td>mental testing</td>\n",
       "    </tr>\n",
       "    <tr>\n",
       "      <th>5</th>\n",
       "      <td>noun</td>\n",
       "      <td>syn</td>\n",
       "      <td>psychometric test</td>\n",
       "    </tr>\n",
       "    <tr>\n",
       "      <th>6</th>\n",
       "      <td>noun</td>\n",
       "      <td>syn</td>\n",
       "      <td>examination</td>\n",
       "    </tr>\n",
       "    <tr>\n",
       "      <th>7</th>\n",
       "      <td>noun</td>\n",
       "      <td>syn</td>\n",
       "      <td>exam</td>\n",
       "    </tr>\n",
       "    <tr>\n",
       "      <th>8</th>\n",
       "      <td>noun</td>\n",
       "      <td>syn</td>\n",
       "      <td>run</td>\n",
       "    </tr>\n",
       "    <tr>\n",
       "      <th>9</th>\n",
       "      <td>noun</td>\n",
       "      <td>syn</td>\n",
       "      <td>attempt</td>\n",
       "    </tr>\n",
       "    <tr>\n",
       "      <th>10</th>\n",
       "      <td>noun</td>\n",
       "      <td>syn</td>\n",
       "      <td>communicating</td>\n",
       "    </tr>\n",
       "    <tr>\n",
       "      <th>11</th>\n",
       "      <td>noun</td>\n",
       "      <td>syn</td>\n",
       "      <td>communication</td>\n",
       "    </tr>\n",
       "    <tr>\n",
       "      <th>12</th>\n",
       "      <td>noun</td>\n",
       "      <td>syn</td>\n",
       "      <td>cover</td>\n",
       "    </tr>\n",
       "    <tr>\n",
       "      <th>13</th>\n",
       "      <td>noun</td>\n",
       "      <td>syn</td>\n",
       "      <td>covering</td>\n",
       "    </tr>\n",
       "    <tr>\n",
       "      <th>14</th>\n",
       "      <td>noun</td>\n",
       "      <td>syn</td>\n",
       "      <td>effort</td>\n",
       "    </tr>\n",
       "    <tr>\n",
       "      <th>15</th>\n",
       "      <td>noun</td>\n",
       "      <td>syn</td>\n",
       "      <td>endeavor</td>\n",
       "    </tr>\n",
       "    <tr>\n",
       "      <th>16</th>\n",
       "      <td>noun</td>\n",
       "      <td>syn</td>\n",
       "      <td>endeavour</td>\n",
       "    </tr>\n",
       "    <tr>\n",
       "      <th>17</th>\n",
       "      <td>noun</td>\n",
       "      <td>syn</td>\n",
       "      <td>experiment</td>\n",
       "    </tr>\n",
       "    <tr>\n",
       "      <th>18</th>\n",
       "      <td>noun</td>\n",
       "      <td>syn</td>\n",
       "      <td>experimentation</td>\n",
       "    </tr>\n",
       "    <tr>\n",
       "      <th>19</th>\n",
       "      <td>noun</td>\n",
       "      <td>syn</td>\n",
       "      <td>mental measurement</td>\n",
       "    </tr>\n",
       "    <tr>\n",
       "      <th>20</th>\n",
       "      <td>noun</td>\n",
       "      <td>syn</td>\n",
       "      <td>natural covering</td>\n",
       "    </tr>\n",
       "    <tr>\n",
       "      <th>21</th>\n",
       "      <td>noun</td>\n",
       "      <td>syn</td>\n",
       "      <td>try</td>\n",
       "    </tr>\n",
       "    <tr>\n",
       "      <th>22</th>\n",
       "      <td>verb</td>\n",
       "      <td>syn</td>\n",
       "      <td>prove</td>\n",
       "    </tr>\n",
       "    <tr>\n",
       "      <th>23</th>\n",
       "      <td>verb</td>\n",
       "      <td>syn</td>\n",
       "      <td>try</td>\n",
       "    </tr>\n",
       "    <tr>\n",
       "      <th>24</th>\n",
       "      <td>verb</td>\n",
       "      <td>syn</td>\n",
       "      <td>try out</td>\n",
       "    </tr>\n",
       "    <tr>\n",
       "      <th>25</th>\n",
       "      <td>verb</td>\n",
       "      <td>syn</td>\n",
       "      <td>examine</td>\n",
       "    </tr>\n",
       "    <tr>\n",
       "      <th>26</th>\n",
       "      <td>verb</td>\n",
       "      <td>syn</td>\n",
       "      <td>essay</td>\n",
       "    </tr>\n",
       "    <tr>\n",
       "      <th>27</th>\n",
       "      <td>verb</td>\n",
       "      <td>syn</td>\n",
       "      <td>screen</td>\n",
       "    </tr>\n",
       "    <tr>\n",
       "      <th>28</th>\n",
       "      <td>verb</td>\n",
       "      <td>syn</td>\n",
       "      <td>quiz</td>\n",
       "    </tr>\n",
       "    <tr>\n",
       "      <th>29</th>\n",
       "      <td>verb</td>\n",
       "      <td>syn</td>\n",
       "      <td>ascertain</td>\n",
       "    </tr>\n",
       "    <tr>\n",
       "      <th>30</th>\n",
       "      <td>verb</td>\n",
       "      <td>syn</td>\n",
       "      <td>be</td>\n",
       "    </tr>\n",
       "    <tr>\n",
       "      <th>31</th>\n",
       "      <td>verb</td>\n",
       "      <td>syn</td>\n",
       "      <td>check</td>\n",
       "    </tr>\n",
       "    <tr>\n",
       "      <th>32</th>\n",
       "      <td>verb</td>\n",
       "      <td>syn</td>\n",
       "      <td>determine</td>\n",
       "    </tr>\n",
       "    <tr>\n",
       "      <th>33</th>\n",
       "      <td>verb</td>\n",
       "      <td>syn</td>\n",
       "      <td>evaluate</td>\n",
       "    </tr>\n",
       "    <tr>\n",
       "      <th>34</th>\n",
       "      <td>verb</td>\n",
       "      <td>syn</td>\n",
       "      <td>find out</td>\n",
       "    </tr>\n",
       "    <tr>\n",
       "      <th>35</th>\n",
       "      <td>verb</td>\n",
       "      <td>syn</td>\n",
       "      <td>judge</td>\n",
       "    </tr>\n",
       "    <tr>\n",
       "      <th>36</th>\n",
       "      <td>verb</td>\n",
       "      <td>syn</td>\n",
       "      <td>learn</td>\n",
       "    </tr>\n",
       "    <tr>\n",
       "      <th>37</th>\n",
       "      <td>verb</td>\n",
       "      <td>syn</td>\n",
       "      <td>pass judgment</td>\n",
       "    </tr>\n",
       "    <tr>\n",
       "      <th>38</th>\n",
       "      <td>verb</td>\n",
       "      <td>syn</td>\n",
       "      <td>score</td>\n",
       "    </tr>\n",
       "    <tr>\n",
       "      <th>39</th>\n",
       "      <td>verb</td>\n",
       "      <td>syn</td>\n",
       "      <td>see</td>\n",
       "    </tr>\n",
       "    <tr>\n",
       "      <th>40</th>\n",
       "      <td>verb</td>\n",
       "      <td>syn</td>\n",
       "      <td>submit</td>\n",
       "    </tr>\n",
       "    <tr>\n",
       "      <th>41</th>\n",
       "      <td>verb</td>\n",
       "      <td>syn</td>\n",
       "      <td>take</td>\n",
       "    </tr>\n",
       "    <tr>\n",
       "      <th>42</th>\n",
       "      <td>verb</td>\n",
       "      <td>syn</td>\n",
       "      <td>undergo</td>\n",
       "    </tr>\n",
       "    <tr>\n",
       "      <th>43</th>\n",
       "      <td>verb</td>\n",
       "      <td>syn</td>\n",
       "      <td>watch</td>\n",
       "    </tr>\n",
       "  </tbody>\n",
       "</table>\n",
       "</div>"
      ],
      "text/plain": [
       "   part_of_speech type_of_rel              phrase\n",
       "0            noun         syn               trial\n",
       "1            noun         syn           trial run\n",
       "2            noun         syn              tryout\n",
       "3            noun         syn         mental test\n",
       "4            noun         syn      mental testing\n",
       "5            noun         syn   psychometric test\n",
       "6            noun         syn         examination\n",
       "7            noun         syn                exam\n",
       "8            noun         syn                 run\n",
       "9            noun         syn             attempt\n",
       "10           noun         syn       communicating\n",
       "11           noun         syn       communication\n",
       "12           noun         syn               cover\n",
       "13           noun         syn            covering\n",
       "14           noun         syn              effort\n",
       "15           noun         syn            endeavor\n",
       "16           noun         syn           endeavour\n",
       "17           noun         syn          experiment\n",
       "18           noun         syn     experimentation\n",
       "19           noun         syn  mental measurement\n",
       "20           noun         syn    natural covering\n",
       "21           noun         syn                 try\n",
       "22           verb         syn               prove\n",
       "23           verb         syn                 try\n",
       "24           verb         syn             try out\n",
       "25           verb         syn             examine\n",
       "26           verb         syn               essay\n",
       "27           verb         syn              screen\n",
       "28           verb         syn                quiz\n",
       "29           verb         syn           ascertain\n",
       "30           verb         syn                  be\n",
       "31           verb         syn               check\n",
       "32           verb         syn           determine\n",
       "33           verb         syn            evaluate\n",
       "34           verb         syn            find out\n",
       "35           verb         syn               judge\n",
       "36           verb         syn               learn\n",
       "37           verb         syn       pass judgment\n",
       "38           verb         syn               score\n",
       "39           verb         syn                 see\n",
       "40           verb         syn              submit\n",
       "41           verb         syn                take\n",
       "42           verb         syn             undergo\n",
       "43           verb         syn               watch"
      ]
     },
     "execution_count": 4,
     "metadata": {},
     "output_type": "execute_result"
    }
   ],
   "source": [
    "# note that you can use the string containing the URL instead of typing it out by hand\n",
    "\n",
    "test_word_df = pd.read_csv(search_url, sep=\"|\", header=None, names=['part_of_speech', 'type_of_rel', 'phrase'])\n",
    "# these files use | instead of commas to divide columns; the \"sep\" option treats the | as the new column delimiter\n",
    "# note that the resulting file does not contain a header. We are supplying names for the imported columns.\n",
    "\n",
    "test_word_df"
   ]
  },
  {
   "cell_type": "markdown",
   "metadata": {},
   "source": [
    "## Exercise 3: Generate URLs based on user input\n",
    "\n",
    "#### Let's create a short program that asks the user to input a word. Use the following steps:\n",
    " - Write a `while` loop that repeats until the user types \"quit\"\n",
    " - Use `if` statements to make sure the word \"quit\" doesn't get sent to the API\n",
    " - Prompt the user to input a word, and store it in a variable called `user_word`\n",
    " - When the user enters a word, use the example in Exercise 2 to generate a URL that searches for this word\n",
    " - Use `pandas` to request the json data from the BigHugeLabs API, and save it into a dataframe called `words_df`\n",
    " - Display the contents of using `print(words_df)`\n",
    " - When the user types \"quit,\" thank them for using the program"
   ]
  },
  {
   "cell_type": "code",
   "execution_count": null,
   "metadata": {},
   "outputs": [],
   "source": [
    "ans = input(str(\"Type a word: \"))\n",
    "user_word = \"\"\n",
    "\n",
    "while ans != \"quit\" :\n",
    "    if user_word is \"quit\" :\n",
    "        print(\"Thank you\")\n",
    "    else:\n",
    "        user_word += ans\n",
    "    words_df = \"http://words.bighugelabs.com/api/2/\" + bighuge_key + \"/\" + user_word + \"/\"        \n",
    "print(words_df)"
   ]
  },
  {
   "cell_type": "markdown",
   "metadata": {},
   "source": [
    "### Why did you need to use `print(words_df)` in the program? In other places we have simply used the name of the dataframe, without calling `print()`"
   ]
  },
  {
   "cell_type": "markdown",
   "metadata": {},
   "source": [
    "-I think it is because there is a loop involved, so it doesn't automatically know anymore."
   ]
  },
  {
   "cell_type": "markdown",
   "metadata": {},
   "source": [
    "### When you run the above code, be sure to try at least one fake word (for instance, search for `xyzzy`). What happens? How do you think coders handle situations like these?"
   ]
  },
  {
   "cell_type": "markdown",
   "metadata": {},
   "source": [
    "-They might use exception handling. Which I believe is basically a way to consider all the possible errors in the code and have a safety net for them."
   ]
  }
 ],
 "metadata": {
  "anaconda-cloud": {},
  "kernelspec": {
   "display_name": "Python 3",
   "language": "python",
   "name": "python3"
  },
  "language_info": {
   "codemirror_mode": {
    "name": "ipython",
    "version": 3
   },
   "file_extension": ".py",
   "mimetype": "text/x-python",
   "name": "python",
   "nbconvert_exporter": "python",
   "pygments_lexer": "ipython3",
   "version": "3.6.2"
  }
 },
 "nbformat": 4,
 "nbformat_minor": 1
}
